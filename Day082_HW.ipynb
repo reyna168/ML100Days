{
 "cells": [
  {
   "cell_type": "markdown",
   "metadata": {},
   "source": [
    "## Work\n",
    "1. 請比較使用不同層數以及不同 Dropout rate 對訓練的效果\n",
    "2. 將 optimizer 改成使用 Adam 並加上適當的 dropout rate 檢視結果"
   ]
  },
  {
   "cell_type": "code",
   "execution_count": 1,
   "metadata": {},
   "outputs": [],
   "source": [
    "import os\n",
    "import keras\n",
    "import itertools\n",
    "# Disable GPU\n",
    "os.environ[\"CUDA_VISIBLE_DEVICES\"] = \"\""
   ]
  },
  {
   "cell_type": "code",
   "execution_count": 2,
   "metadata": {},
   "outputs": [],
   "source": [
    "train, test = keras.datasets.cifar10.load_data()"
   ]
  },
  {
   "cell_type": "code",
   "execution_count": 3,
   "metadata": {},
   "outputs": [],
   "source": [
    "## 資料前處理\n",
    "def preproc_x(x, flatten=True):\n",
    "    x = x / 255.\n",
    "    if flatten:\n",
    "        x = x.reshape((len(x), -1))\n",
    "    return x\n",
    "\n",
    "def preproc_y(y, num_classes=10):\n",
    "    if y.shape[-1] == 1:\n",
    "        y = keras.utils.to_categorical(y, num_classes)\n",
    "    return y    "
   ]
  },
  {
   "cell_type": "code",
   "execution_count": 4,
   "metadata": {},
   "outputs": [],
   "source": [
    "x_train, y_train = train\n",
    "x_test, y_test = test\n",
    "\n",
    "# Preproc the inputs\n",
    "x_train = preproc_x(x_train)\n",
    "x_test = preproc_x(x_test)\n",
    "\n",
    "# Preprc the outputs\n",
    "y_train = preproc_y(y_train)\n",
    "y_test = preproc_y(y_test)"
   ]
  },
  {
   "cell_type": "code",
   "execution_count": 5,
   "metadata": {},
   "outputs": [],
   "source": [
    "from keras.layers import Dropout\n",
    "\n",
    "def build_mlp(input_shape,output_units = 10, num_neurons = [512, 256, 128, 64], drp_ratio=0.4):\n",
    "    \"\"\"Code Here\n",
    "    建立你的神經網路\n",
    "    \"\"\"\n",
    "    input_layer = keras.layers.Input(input_shape)\n",
    "    \n",
    "    for i,n_units in enumerate(num_neurons):\n",
    "        if i == 0:\n",
    "            x = keras.layers.Dense(units = n_units,\n",
    "                                  activation=\"relu\",\n",
    "                                  name =\"hidden_layer\"+str(i+1))(input_layer)\n",
    "            x = Dropout(drp_ratio)(x)\n",
    "        else:\n",
    "            x = keras.layers.Dense(units = n_units,\n",
    "                                  activation=\"relu\",\n",
    "                                  name =\"hidden_layer\"+str(i+1))(x)\n",
    "            x = Dropout(drp_ratio)(x)\n",
    "    \n",
    "    out = keras.layers.Dense(units = output_units,activation =\"softmax\", name=\"output\")(x)\n",
    "    \n",
    "    model = keras.models.Model(inputs=[input_layer], outputs=[out])\n",
    "    return model"
   ]
  },
  {
   "cell_type": "code",
   "execution_count": 6,
   "metadata": {},
   "outputs": [],
   "source": [
    "\"\"\"Code Here\n",
    "設定超參數\n",
    "\"\"\"\n",
    "LEARNING_RATE = 1e-3\n",
    "EPOCHS = 50\n",
    "BATCH_SIZE = 256\n",
    "MOMENTUM = 0.95\n",
    "Dropout_EXP = 0.25\n"
   ]
  },
  {
   "cell_type": "markdown",
   "metadata": {},
   "source": [
    "### Optimizer Setting¶\n",
    "Adam"
   ]
  },
  {
   "cell_type": "code",
   "execution_count": 8,
   "metadata": {
    "scrolled": true
   },
   "outputs": [
    {
     "name": "stdout",
     "output_type": "stream",
     "text": [
      "Model: \"functional_3\"\n",
      "_________________________________________________________________\n",
      "Layer (type)                 Output Shape              Param #   \n",
      "=================================================================\n",
      "input_2 (InputLayer)         [(None, 3072)]            0         \n",
      "_________________________________________________________________\n",
      "hidden_layer1 (Dense)        (None, 512)               1573376   \n",
      "_________________________________________________________________\n",
      "dropout_4 (Dropout)          (None, 512)               0         \n",
      "_________________________________________________________________\n",
      "hidden_layer2 (Dense)        (None, 256)               131328    \n",
      "_________________________________________________________________\n",
      "dropout_5 (Dropout)          (None, 256)               0         \n",
      "_________________________________________________________________\n",
      "hidden_layer3 (Dense)        (None, 128)               32896     \n",
      "_________________________________________________________________\n",
      "dropout_6 (Dropout)          (None, 128)               0         \n",
      "_________________________________________________________________\n",
      "hidden_layer4 (Dense)        (None, 64)                8256      \n",
      "_________________________________________________________________\n",
      "dropout_7 (Dropout)          (None, 64)                0         \n",
      "_________________________________________________________________\n",
      "output (Dense)               (None, 10)                650       \n",
      "=================================================================\n",
      "Total params: 1,746,506\n",
      "Trainable params: 1,746,506\n",
      "Non-trainable params: 0\n",
      "_________________________________________________________________\n",
      "Epoch 1/50\n",
      "196/196 [==============================] - 3s 17ms/step - loss: 2.1212 - accuracy: 0.1987 - val_loss: 1.9154 - val_accuracy: 0.2928\n",
      "Epoch 2/50\n",
      "196/196 [==============================] - 3s 16ms/step - loss: 1.9561 - accuracy: 0.2726 - val_loss: 1.8569 - val_accuracy: 0.3228\n",
      "Epoch 3/50\n",
      "196/196 [==============================] - 3s 16ms/step - loss: 1.9220 - accuracy: 0.2886 - val_loss: 1.8095 - val_accuracy: 0.3461\n",
      "Epoch 4/50\n",
      "196/196 [==============================] - 3s 16ms/step - loss: 1.8743 - accuracy: 0.3104 - val_loss: 1.7591 - val_accuracy: 0.3691\n",
      "Epoch 5/50\n",
      "196/196 [==============================] - 3s 16ms/step - loss: 1.8339 - accuracy: 0.3295 - val_loss: 1.7588 - val_accuracy: 0.3715\n",
      "Epoch 6/50\n",
      "196/196 [==============================] - 3s 16ms/step - loss: 1.8197 - accuracy: 0.3375 - val_loss: 1.7651 - val_accuracy: 0.3770\n",
      "Epoch 7/50\n",
      "196/196 [==============================] - 3s 16ms/step - loss: 1.8092 - accuracy: 0.3384 - val_loss: 1.7180 - val_accuracy: 0.3981\n",
      "Epoch 8/50\n",
      "196/196 [==============================] - 3s 16ms/step - loss: 1.7788 - accuracy: 0.3544 - val_loss: 1.7296 - val_accuracy: 0.3916\n",
      "Epoch 9/50\n",
      "196/196 [==============================] - 3s 16ms/step - loss: 1.7637 - accuracy: 0.3556 - val_loss: 1.6759 - val_accuracy: 0.4016\n",
      "Epoch 10/50\n",
      "196/196 [==============================] - 3s 16ms/step - loss: 1.7492 - accuracy: 0.3636 - val_loss: 1.6601 - val_accuracy: 0.4145\n",
      "Epoch 11/50\n",
      "196/196 [==============================] - 3s 16ms/step - loss: 1.7448 - accuracy: 0.3679 - val_loss: 1.6614 - val_accuracy: 0.3980\n",
      "Epoch 12/50\n",
      "196/196 [==============================] - 3s 16ms/step - loss: 1.7280 - accuracy: 0.3740 - val_loss: 1.6215 - val_accuracy: 0.4277\n",
      "Epoch 13/50\n",
      "196/196 [==============================] - 3s 16ms/step - loss: 1.7184 - accuracy: 0.3781 - val_loss: 1.6259 - val_accuracy: 0.4220\n",
      "Epoch 14/50\n",
      "196/196 [==============================] - 3s 16ms/step - loss: 1.7074 - accuracy: 0.3796 - val_loss: 1.6323 - val_accuracy: 0.4186\n",
      "Epoch 15/50\n",
      "196/196 [==============================] - 3s 16ms/step - loss: 1.7070 - accuracy: 0.3840 - val_loss: 1.6178 - val_accuracy: 0.4372\n",
      "Epoch 16/50\n",
      "196/196 [==============================] - 3s 16ms/step - loss: 1.6972 - accuracy: 0.3846 - val_loss: 1.6125 - val_accuracy: 0.4260\n",
      "Epoch 17/50\n",
      "196/196 [==============================] - 3s 16ms/step - loss: 1.6871 - accuracy: 0.3916 - val_loss: 1.6171 - val_accuracy: 0.4324\n",
      "Epoch 18/50\n",
      "196/196 [==============================] - 3s 16ms/step - loss: 1.6854 - accuracy: 0.3912 - val_loss: 1.6004 - val_accuracy: 0.4307\n",
      "Epoch 19/50\n",
      "196/196 [==============================] - 3s 17ms/step - loss: 1.6880 - accuracy: 0.3889 - val_loss: 1.6277 - val_accuracy: 0.4289\n",
      "Epoch 20/50\n",
      "196/196 [==============================] - 3s 17ms/step - loss: 1.6818 - accuracy: 0.3924 - val_loss: 1.5999 - val_accuracy: 0.4357\n",
      "Epoch 21/50\n",
      "196/196 [==============================] - 3s 17ms/step - loss: 1.6722 - accuracy: 0.3965 - val_loss: 1.5838 - val_accuracy: 0.4422loss: 1.6723 - accu\n",
      "Epoch 22/50\n",
      "196/196 [==============================] - 3s 16ms/step - loss: 1.6663 - accuracy: 0.3984 - val_loss: 1.5861 - val_accuracy: 0.4478\n",
      "Epoch 23/50\n",
      "196/196 [==============================] - 3s 16ms/step - loss: 1.6622 - accuracy: 0.3988 - val_loss: 1.6005 - val_accuracy: 0.4274\n",
      "Epoch 24/50\n",
      "196/196 [==============================] - 3s 17ms/step - loss: 1.6656 - accuracy: 0.3982 - val_loss: 1.5829 - val_accuracy: 0.4414\n",
      "Epoch 25/50\n",
      "196/196 [==============================] - 3s 17ms/step - loss: 1.6513 - accuracy: 0.4041 - val_loss: 1.5596 - val_accuracy: 0.4412\n",
      "Epoch 26/50\n",
      "196/196 [==============================] - 3s 17ms/step - loss: 1.6541 - accuracy: 0.4019 - val_loss: 1.5833 - val_accuracy: 0.4412\n",
      "Epoch 27/50\n",
      "196/196 [==============================] - 3s 16ms/step - loss: 1.6450 - accuracy: 0.4050 - val_loss: 1.5739 - val_accuracy: 0.4386\n",
      "Epoch 28/50\n",
      "196/196 [==============================] - 3s 16ms/step - loss: 1.6420 - accuracy: 0.4091 - val_loss: 1.5859 - val_accuracy: 0.4408\n",
      "Epoch 29/50\n",
      "196/196 [==============================] - 3s 16ms/step - loss: 1.6428 - accuracy: 0.4070 - val_loss: 1.5922 - val_accuracy: 0.4381\n",
      "Epoch 30/50\n",
      "196/196 [==============================] - 3s 17ms/step - loss: 1.6315 - accuracy: 0.4122 - val_loss: 1.5468 - val_accuracy: 0.4501\n",
      "Epoch 31/50\n",
      "196/196 [==============================] - 3s 17ms/step - loss: 1.6343 - accuracy: 0.4118 - val_loss: 1.5603 - val_accuracy: 0.4442\n",
      "Epoch 32/50\n",
      "196/196 [==============================] - 3s 17ms/step - loss: 1.6252 - accuracy: 0.4146 - val_loss: 1.5604 - val_accuracy: 0.4454\n",
      "Epoch 33/50\n",
      "196/196 [==============================] - 3s 16ms/step - loss: 1.6284 - accuracy: 0.4108 - val_loss: 1.5608 - val_accuracy: 0.4429\n",
      "Epoch 34/50\n",
      "196/196 [==============================] - 3s 17ms/step - loss: 1.6215 - accuracy: 0.4135 - val_loss: 1.5509 - val_accuracy: 0.4512\n",
      "Epoch 35/50\n",
      "196/196 [==============================] - 3s 17ms/step - loss: 1.6149 - accuracy: 0.4184 - val_loss: 1.5375 - val_accuracy: 0.4542\n",
      "Epoch 36/50\n",
      "196/196 [==============================] - 3s 17ms/step - loss: 1.6118 - accuracy: 0.4195 - val_loss: 1.5321 - val_accuracy: 0.4568\n",
      "Epoch 37/50\n",
      "196/196 [==============================] - 3s 17ms/step - loss: 1.6149 - accuracy: 0.4188 - val_loss: 1.5372 - val_accuracy: 0.4490\n",
      "Epoch 38/50\n",
      "196/196 [==============================] - 3s 17ms/step - loss: 1.6101 - accuracy: 0.4208 - val_loss: 1.5559 - val_accuracy: 0.4489\n",
      "Epoch 39/50\n",
      "196/196 [==============================] - 3s 17ms/step - loss: 1.6087 - accuracy: 0.4181 - val_loss: 1.5800 - val_accuracy: 0.4478\n",
      "Epoch 40/50\n",
      "196/196 [==============================] - 3s 17ms/step - loss: 1.5992 - accuracy: 0.4251 - val_loss: 1.5337 - val_accuracy: 0.4576\n",
      "Epoch 41/50\n",
      "196/196 [==============================] - 3s 17ms/step - loss: 1.6003 - accuracy: 0.4250 - val_loss: 1.5535 - val_accuracy: 0.4408\n",
      "Epoch 42/50\n",
      "196/196 [==============================] - 3s 17ms/step - loss: 1.5985 - accuracy: 0.4265 - val_loss: 1.5376 - val_accuracy: 0.4572\n",
      "Epoch 43/50\n",
      "196/196 [==============================] - 3s 17ms/step - loss: 1.5906 - accuracy: 0.4263 - val_loss: 1.5186 - val_accuracy: 0.4655\n",
      "Epoch 44/50\n",
      "196/196 [==============================] - 3s 17ms/step - loss: 1.5965 - accuracy: 0.4252 - val_loss: 1.5636 - val_accuracy: 0.4352\n",
      "Epoch 45/50\n",
      "196/196 [==============================] - 3s 17ms/step - loss: 1.5973 - accuracy: 0.4263 - val_loss: 1.5245 - val_accuracy: 0.4619\n",
      "Epoch 46/50\n"
     ]
    },
    {
     "name": "stdout",
     "output_type": "stream",
     "text": [
      "196/196 [==============================] - 3s 16ms/step - loss: 1.5848 - accuracy: 0.4306 - val_loss: 1.5392 - val_accuracy: 0.4602\n",
      "Epoch 47/50\n",
      "196/196 [==============================] - 3s 16ms/step - loss: 1.5886 - accuracy: 0.4297 - val_loss: 1.5138 - val_accuracy: 0.4642\n",
      "Epoch 48/50\n",
      "196/196 [==============================] - 3s 16ms/step - loss: 1.5786 - accuracy: 0.4315 - val_loss: 1.5197 - val_accuracy: 0.4599\n",
      "Epoch 49/50\n",
      "196/196 [==============================] - 3s 16ms/step - loss: 1.5785 - accuracy: 0.4319 - val_loss: 1.5249 - val_accuracy: 0.4637\n",
      "Epoch 50/50\n",
      "196/196 [==============================] - 3s 17ms/step - loss: 1.5837 - accuracy: 0.4310 - val_loss: 1.5191 - val_accuracy: 0.4628\n"
     ]
    }
   ],
   "source": [
    "results = {}\n",
    "\"\"\"Code Here\n",
    "撰寫你的訓練流程並將結果用 dictionary 紀錄\n",
    "\"\"\"\n",
    "model = build_mlp(input_shape=x_train.shape[1:], drp_ratio=Dropout_EXP)\n",
    "model.summary()\n",
    "optimizer = keras.optimizers.Adam(lr=LEARNING_RATE, epsilon=None, decay=0.0)\n",
    "model.compile(loss=\"categorical_crossentropy\", metrics=[\"accuracy\"], optimizer=optimizer)\n",
    "\n",
    "model.fit(x_train, y_train, \n",
    "          epochs=EPOCHS, \n",
    "          batch_size=BATCH_SIZE, \n",
    "          validation_data=(x_test, y_test), \n",
    "          shuffle=True)\n",
    "\n",
    "# Collect results\n",
    "train_loss = model.history.history[\"loss\"]\n",
    "valid_loss = model.history.history[\"val_loss\"]\n",
    "train_acc = model.history.history[\"accuracy\"]\n",
    "valid_acc = model.history.history[\"val_accuracy\"]\n"
   ]
  },
  {
   "cell_type": "code",
   "execution_count": 9,
   "metadata": {},
   "outputs": [
    {
     "data": {
      "image/png": "[encoded data removed]",
      "text/plain": [
       "<Figure size 432x288 with 1 Axes>"
      ]
     },
     "metadata": {
      "needs_background": "light"
     },
     "output_type": "display_data"
    },
    {
     "data": {
      "image/png": "[encoded data removed]",
      "text/plain": [
       "<Figure size 432x288 with 1 Axes>"
      ]
     },
     "metadata": {
      "needs_background": "light"
     },
     "output_type": "display_data"
    }
   ],
   "source": [
    "import matplotlib.pyplot as plt\n",
    "%matplotlib inline\n",
    "\n",
    "import matplotlib.pyplot as plt\n",
    "%matplotlib inline\n",
    "\"\"\"Code Here\n",
    "將結果繪出\n",
    "\"\"\"\n",
    "plt.plot(range(len(train_loss)), train_loss, label=\"train loss\")\n",
    "plt.plot(range(len(valid_loss)), valid_loss, label=\"valid loss\")\n",
    "plt.legend()\n",
    "plt.title(\"Loss\")\n",
    "plt.show()\n",
    "\n",
    "plt.plot(range(len(train_acc)), train_acc, label=\"train accuracy\")\n",
    "plt.plot(range(len(valid_acc)), valid_acc, label=\"valid accuracy\")\n",
    "plt.legend()\n",
    "plt.title(\"Accuracy\")\n",
    "plt.show()\n"
   ]
  },
  {
   "cell_type": "code",
   "execution_count": null,
   "metadata": {},
   "outputs": [],
   "source": []
  }
 ],
 "metadata": {
  "kernelspec": {
   "display_name": "Python 3",
   "language": "python",
   "name": "python3"
  },
  "language_info": {
   "codemirror_mode": {
    "name": "ipython",
    "version": 3
   },
   "file_extension": ".py",
   "mimetype": "text/x-python",
   "name": "python",
   "nbconvert_exporter": "python",
   "pygments_lexer": "ipython3",
   "version": "3.8.3"
  }
 },
 "nbformat": 4,
 "nbformat_minor": 2
}
