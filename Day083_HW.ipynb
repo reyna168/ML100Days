{
 "cells": [
  {
   "cell_type": "markdown",
   "metadata": {},
   "source": [
    "## Work\n",
    "1. 試比較有 BN 在 Batch_size = 2, 16, 32, 128, 256 下的差異\n",
    "2. 請嘗試將 BN 放在 Activation 之前，並比較訓練結果\n",
    "3. 請於 BN 放在 Input Layer 後，並比較結果"
   ]
  },
  {
   "cell_type": "code",
   "execution_count": 8,
   "metadata": {},
   "outputs": [],
   "source": [
    "import os\n",
    "import keras\n",
    "import itertools\n",
    "# Disable GPU\n",
    "os.environ[\"CUDA_VISIBLE_DEVICES\"] = \"\""
   ]
  },
  {
   "cell_type": "code",
   "execution_count": 9,
   "metadata": {},
   "outputs": [],
   "source": [
    "train, test = keras.datasets.cifar10.load_data()"
   ]
  },
  {
   "cell_type": "code",
   "execution_count": 10,
   "metadata": {},
   "outputs": [],
   "source": [
    "## 資料前處理\n",
    "def preproc_x(x, flatten=True):\n",
    "    x = x / 255.\n",
    "    if flatten:\n",
    "        x = x.reshape((len(x), -1))\n",
    "    return x\n",
    "\n",
    "def preproc_y(y, num_classes=10):\n",
    "    if y.shape[-1] == 1:\n",
    "        y = keras.utils.to_categorical(y, num_classes)\n",
    "    return y    "
   ]
  },
  {
   "cell_type": "code",
   "execution_count": 11,
   "metadata": {},
   "outputs": [],
   "source": [
    "x_train, y_train = train\n",
    "x_test, y_test = test\n",
    "\n",
    "# Preproc the inputs\n",
    "x_train = preproc_x(x_train)\n",
    "x_test = preproc_x(x_test)\n",
    "\n",
    "# Preprc the outputs\n",
    "y_train = preproc_y(y_train)\n",
    "y_test = preproc_y(y_test)"
   ]
  },
  {
   "cell_type": "code",
   "execution_count": 12,
   "metadata": {},
   "outputs": [],
   "source": [
    "from keras.layers import BatchNormalization\n",
    "\n",
    "\"\"\"\n",
    "建立神經網路，並加入 BN layer\n",
    "\"\"\"\n",
    "def build_mlp(input_shape, output_units=10, num_neurons=[512, 256, 128]):\n",
    "    input_layer = keras.layers.Input(input_shape)\n",
    "    \n",
    "    for i, n_units in enumerate(num_neurons):\n",
    "        if i == 0:\n",
    "            #x = BatchNormalization()(x)\n",
    "            x = keras.layers.Dense(units=n_units, \n",
    "                                   activation=\"relu\", \n",
    "                                   name=\"hidden_layer\"+str(i+1))(input_layer)\n",
    "            x = BatchNormalization()(x)\n",
    "        else:\n",
    "            x = BatchNormalization()(x)\n",
    "            x = keras.layers.Dense(units=n_units, \n",
    "                                   activation=\"relu\", \n",
    "                                   name=\"hidden_layer\"+str(i+1))(x)\n",
    "    \n",
    "    out = keras.layers.Dense(units=output_units, activation=\"softmax\", name=\"output\")(x)\n",
    "    \n",
    "    model = keras.models.Model(inputs=[input_layer], outputs=[out])\n",
    "    return model"
   ]
  },
  {
   "cell_type": "code",
   "execution_count": 13,
   "metadata": {},
   "outputs": [],
   "source": [
    "\"\"\"Code Here\n",
    "設定超參數\n",
    "\"\"\"\n",
    "LEARNING_RATE = 1e-3\n",
    "EPOCHS = 50\n",
    "BATCH_SIZE = 256\n",
    "MOMENTUM = 0.95\n"
   ]
  },
  {
   "cell_type": "code",
   "execution_count": 14,
   "metadata": {
    "scrolled": true
   },
   "outputs": [
    {
     "name": "stdout",
     "output_type": "stream",
     "text": [
      "Model: \"functional_3\"\n",
      "_________________________________________________________________\n",
      "Layer (type)                 Output Shape              Param #   \n",
      "=================================================================\n",
      "input_2 (InputLayer)         [(None, 3072)]            0         \n",
      "_________________________________________________________________\n",
      "hidden_layer1 (Dense)        (None, 512)               1573376   \n",
      "_________________________________________________________________\n",
      "batch_normalization_3 (Batch (None, 512)               2048      \n",
      "_________________________________________________________________\n",
      "batch_normalization_4 (Batch (None, 512)               2048      \n",
      "_________________________________________________________________\n",
      "hidden_layer2 (Dense)        (None, 256)               131328    \n",
      "_________________________________________________________________\n",
      "batch_normalization_5 (Batch (None, 256)               1024      \n",
      "_________________________________________________________________\n",
      "hidden_layer3 (Dense)        (None, 128)               32896     \n",
      "_________________________________________________________________\n",
      "output (Dense)               (None, 10)                1290      \n",
      "=================================================================\n",
      "Total params: 1,744,010\n",
      "Trainable params: 1,741,450\n",
      "Non-trainable params: 2,560\n",
      "_________________________________________________________________\n",
      "Epoch 1/50\n",
      "196/196 [==============================] - 3s 17ms/step - loss: 1.8629 - accuracy: 0.3461 - val_loss: 1.7561 - val_accuracy: 0.3827\n",
      "Epoch 2/50\n",
      "196/196 [==============================] - 3s 17ms/step - loss: 1.5564 - accuracy: 0.4518 - val_loss: 1.6058 - val_accuracy: 0.4333\n",
      "Epoch 3/50\n",
      "196/196 [==============================] - 3s 16ms/step - loss: 1.4574 - accuracy: 0.4870 - val_loss: 1.5680 - val_accuracy: 0.4391\n",
      "Epoch 4/50\n",
      "196/196 [==============================] - 3s 16ms/step - loss: 1.3878 - accuracy: 0.5136 - val_loss: 1.5150 - val_accuracy: 0.4615\n",
      "Epoch 5/50\n",
      "196/196 [==============================] - 3s 16ms/step - loss: 1.3311 - accuracy: 0.5357 - val_loss: 1.6371 - val_accuracy: 0.4302\n",
      "Epoch 6/50\n",
      "196/196 [==============================] - 3s 16ms/step - loss: 1.2873 - accuracy: 0.5492 - val_loss: 1.4669 - val_accuracy: 0.4816\n",
      "Epoch 7/50\n",
      "196/196 [==============================] - 3s 17ms/step - loss: 1.2408 - accuracy: 0.5682 - val_loss: 1.4590 - val_accuracy: 0.4914\n",
      "Epoch 8/50\n",
      "196/196 [==============================] - 3s 16ms/step - loss: 1.1993 - accuracy: 0.5842 - val_loss: 1.4946 - val_accuracy: 0.4754\n",
      "Epoch 9/50\n",
      "196/196 [==============================] - 3s 17ms/step - loss: 1.1618 - accuracy: 0.5963 - val_loss: 1.4483 - val_accuracy: 0.4839\n",
      "Epoch 10/50\n",
      "196/196 [==============================] - 3s 16ms/step - loss: 1.1281 - accuracy: 0.6091 - val_loss: 1.4631 - val_accuracy: 0.4803\n",
      "Epoch 11/50\n",
      "196/196 [==============================] - 3s 16ms/step - loss: 1.0914 - accuracy: 0.6221 - val_loss: 1.4979 - val_accuracy: 0.4787\n",
      "Epoch 12/50\n",
      "196/196 [==============================] - 3s 16ms/step - loss: 1.0573 - accuracy: 0.6362 - val_loss: 1.4843 - val_accuracy: 0.4798\n",
      "Epoch 13/50\n",
      "196/196 [==============================] - 3s 17ms/step - loss: 1.0257 - accuracy: 0.6469 - val_loss: 1.4951 - val_accuracy: 0.4806\n",
      "Epoch 14/50\n",
      "196/196 [==============================] - 3s 17ms/step - loss: 0.9924 - accuracy: 0.6590 - val_loss: 1.4344 - val_accuracy: 0.5073\n",
      "Epoch 15/50\n",
      "196/196 [==============================] - 3s 17ms/step - loss: 0.9614 - accuracy: 0.6705 - val_loss: 1.4679 - val_accuracy: 0.4971\n",
      "Epoch 16/50\n",
      "196/196 [==============================] - 3s 17ms/step - loss: 0.9335 - accuracy: 0.6836 - val_loss: 1.5942 - val_accuracy: 0.4725\n",
      "Epoch 17/50\n",
      "196/196 [==============================] - 3s 17ms/step - loss: 0.9021 - accuracy: 0.6906 - val_loss: 1.5024 - val_accuracy: 0.4896\n",
      "Epoch 18/50\n",
      "196/196 [==============================] - 3s 17ms/step - loss: 0.8734 - accuracy: 0.7015 - val_loss: 1.4488 - val_accuracy: 0.4986\n",
      "Epoch 19/50\n",
      "196/196 [==============================] - 3s 17ms/step - loss: 0.8397 - accuracy: 0.7150 - val_loss: 1.5444 - val_accuracy: 0.4834\n",
      "Epoch 20/50\n",
      "196/196 [==============================] - 3s 16ms/step - loss: 0.8155 - accuracy: 0.7254 - val_loss: 1.5590 - val_accuracy: 0.4837\n",
      "Epoch 21/50\n",
      "196/196 [==============================] - 3s 16ms/step - loss: 0.7875 - accuracy: 0.7350 - val_loss: 1.5532 - val_accuracy: 0.4811\n",
      "Epoch 22/50\n",
      "196/196 [==============================] - 3s 16ms/step - loss: 0.7604 - accuracy: 0.7441 - val_loss: 1.5779 - val_accuracy: 0.4867\n",
      "Epoch 23/50\n",
      "196/196 [==============================] - 3s 16ms/step - loss: 0.7287 - accuracy: 0.7571 - val_loss: 1.5176 - val_accuracy: 0.4954\n",
      "Epoch 24/50\n",
      "196/196 [==============================] - 3s 16ms/step - loss: 0.7022 - accuracy: 0.7671 - val_loss: 1.6349 - val_accuracy: 0.4838\n",
      "Epoch 25/50\n",
      "196/196 [==============================] - 3s 16ms/step - loss: 0.6756 - accuracy: 0.7762 - val_loss: 1.6178 - val_accuracy: 0.4931\n",
      "Epoch 26/50\n",
      "196/196 [==============================] - 3s 16ms/step - loss: 0.6476 - accuracy: 0.7871 - val_loss: 1.6624 - val_accuracy: 0.4902\n",
      "Epoch 27/50\n",
      "196/196 [==============================] - 3s 16ms/step - loss: 0.6222 - accuracy: 0.7971 - val_loss: 1.6656 - val_accuracy: 0.4860\n",
      "Epoch 28/50\n",
      "196/196 [==============================] - 3s 16ms/step - loss: 0.6011 - accuracy: 0.8041 - val_loss: 1.8814 - val_accuracy: 0.4596\n",
      "Epoch 29/50\n",
      "196/196 [==============================] - 3s 16ms/step - loss: 0.5747 - accuracy: 0.8125 - val_loss: 1.6858 - val_accuracy: 0.4790\n",
      "Epoch 30/50\n",
      "196/196 [==============================] - 3s 17ms/step - loss: 0.5467 - accuracy: 0.8242 - val_loss: 1.7135 - val_accuracy: 0.4787\n",
      "Epoch 31/50\n",
      "196/196 [==============================] - 3s 16ms/step - loss: 0.5228 - accuracy: 0.8323 - val_loss: 1.7791 - val_accuracy: 0.4718\n",
      "Epoch 32/50\n",
      "196/196 [==============================] - 3s 16ms/step - loss: 0.5032 - accuracy: 0.8385 - val_loss: 1.9175 - val_accuracy: 0.4690\n",
      "Epoch 33/50\n",
      "196/196 [==============================] - 3s 17ms/step - loss: 0.4811 - accuracy: 0.8481 - val_loss: 1.7453 - val_accuracy: 0.4903\n",
      "Epoch 34/50\n",
      "196/196 [==============================] - 3s 16ms/step - loss: 0.4549 - accuracy: 0.8570 - val_loss: 1.8143 - val_accuracy: 0.4726\n",
      "Epoch 35/50\n",
      "196/196 [==============================] - 3s 16ms/step - loss: 0.4378 - accuracy: 0.8617 - val_loss: 1.8403 - val_accuracy: 0.4796\n",
      "Epoch 36/50\n",
      "196/196 [==============================] - 3s 16ms/step - loss: 0.4125 - accuracy: 0.8716 - val_loss: 1.8427 - val_accuracy: 0.4805\n",
      "Epoch 37/50\n",
      "196/196 [==============================] - 3s 16ms/step - loss: 0.3872 - accuracy: 0.8830 - val_loss: 1.8552 - val_accuracy: 0.4825\n",
      "Epoch 38/50\n",
      "196/196 [==============================] - 3s 16ms/step - loss: 0.3710 - accuracy: 0.8873 - val_loss: 1.8942 - val_accuracy: 0.4855\n",
      "Epoch 39/50\n",
      "196/196 [==============================] - 3s 16ms/step - loss: 0.3597 - accuracy: 0.8917 - val_loss: 2.0267 - val_accuracy: 0.4736\n",
      "Epoch 40/50\n",
      "196/196 [==============================] - 3s 16ms/step - loss: 0.3419 - accuracy: 0.8977 - val_loss: 2.0854 - val_accuracy: 0.4580\n",
      "Epoch 41/50\n",
      "196/196 [==============================] - 3s 16ms/step - loss: 0.3212 - accuracy: 0.9050 - val_loss: 2.0356 - val_accuracy: 0.4723\n",
      "Epoch 42/50\n",
      "196/196 [==============================] - 3s 16ms/step - loss: 0.3036 - accuracy: 0.9113 - val_loss: 1.9812 - val_accuracy: 0.4753\n",
      "Epoch 43/50\n",
      "196/196 [==============================] - 3s 16ms/step - loss: 0.2916 - accuracy: 0.9150 - val_loss: 2.2121 - val_accuracy: 0.4633\n",
      "Epoch 44/50\n",
      "196/196 [==============================] - 3s 17ms/step - loss: 0.2768 - accuracy: 0.9194 - val_loss: 2.1185 - val_accuracy: 0.4861\n",
      "Epoch 45/50\n",
      "196/196 [==============================] - 3s 16ms/step - loss: 0.2613 - accuracy: 0.9256 - val_loss: 2.1238 - val_accuracy: 0.4779\n",
      "Epoch 46/50\n",
      "196/196 [==============================] - 3s 16ms/step - loss: 0.2442 - accuracy: 0.9321 - val_loss: 2.1950 - val_accuracy: 0.4754\n",
      "Epoch 47/50\n",
      "196/196 [==============================] - 3s 16ms/step - loss: 0.2422 - accuracy: 0.9298 - val_loss: 2.1747 - val_accuracy: 0.4820\n",
      "Epoch 48/50\n"
     ]
    },
    {
     "name": "stdout",
     "output_type": "stream",
     "text": [
      "196/196 [==============================] - 3s 16ms/step - loss: 0.2177 - accuracy: 0.9426 - val_loss: 2.2223 - val_accuracy: 0.4780\n",
      "Epoch 49/50\n",
      "196/196 [==============================] - 3s 16ms/step - loss: 0.2078 - accuracy: 0.9435 - val_loss: 2.2117 - val_accuracy: 0.4799\n",
      "Epoch 50/50\n",
      "196/196 [==============================] - 3s 16ms/step - loss: 0.2020 - accuracy: 0.9454 - val_loss: 2.3078 - val_accuracy: 0.4768\n"
     ]
    }
   ],
   "source": [
    "results = {}\n",
    "\"\"\"Code Here\n",
    "撰寫你的訓練流程並將結果用 dictionary 紀錄\n",
    "\"\"\"\n",
    "model = build_mlp(input_shape=x_train.shape[1:])\n",
    "model.summary()\n",
    "optimizer = keras.optimizers.SGD(lr=LEARNING_RATE, nesterov=True, momentum=MOMENTUM)\n",
    "model.compile(loss=\"categorical_crossentropy\", metrics=[\"accuracy\"], optimizer=optimizer)\n",
    "\n",
    "model.fit(x_train, y_train, \n",
    "          epochs=EPOCHS, \n",
    "          batch_size=BATCH_SIZE, \n",
    "          validation_data=(x_test, y_test), \n",
    "          shuffle=True)\n",
    "\n",
    "# Collect results\n",
    "train_loss = model.history.history[\"loss\"]\n",
    "valid_loss = model.history.history[\"val_loss\"]\n",
    "train_acc = model.history.history[\"accuracy\"]\n",
    "valid_acc = model.history.history[\"val_accuracy\"]\n"
   ]
  },
  {
   "cell_type": "code",
   "execution_count": 15,
   "metadata": {},
   "outputs": [
    {
     "data": {
      "image/png": "[encoded data removed]",
      "text/plain": [
       "<Figure size 432x288 with 1 Axes>"
      ]
     },
     "metadata": {
      "needs_background": "light"
     },
     "output_type": "display_data"
    },
    {
     "data": {
      "image/png": "[encoded data removed]",
      "text/plain": [
       "<Figure size 432x288 with 1 Axes>"
      ]
     },
     "metadata": {
      "needs_background": "light"
     },
     "output_type": "display_data"
    }
   ],
   "source": [
    "import matplotlib.pyplot as plt\n",
    "%matplotlib inline\n",
    "\"\"\"Code Here\n",
    "將結果繪出\n",
    "\"\"\"\n",
    "plt.plot(range(len(train_loss)), train_loss, label=\"train loss\")\n",
    "plt.plot(range(len(valid_loss)), valid_loss, label=\"valid loss\")\n",
    "plt.legend()\n",
    "plt.title(\"Loss\")\n",
    "plt.show()\n",
    "\n",
    "plt.plot(range(len(train_acc)), train_acc, label=\"train accuracy\")\n",
    "plt.plot(range(len(valid_acc)), valid_acc, label=\"valid accuracy\")\n",
    "plt.legend()\n",
    "plt.title(\"Accuracy\")\n",
    "plt.show()"
   ]
  },
  {
   "cell_type": "code",
   "execution_count": null,
   "metadata": {},
   "outputs": [],
   "source": []
  }
 ],
 "metadata": {
  "kernelspec": {
   "display_name": "Python 3",
   "language": "python",
   "name": "python3"
  },
  "language_info": {
   "codemirror_mode": {
    "name": "ipython",
    "version": 3
   },
   "file_extension": ".py",
   "mimetype": "text/x-python",
   "name": "python",
   "nbconvert_exporter": "python",
   "pygments_lexer": "ipython3",
   "version": "3.8.3"
  }
 },
 "nbformat": 4,
 "nbformat_minor": 2
}
